{
 "cells": [
  {
   "cell_type": "markdown",
   "metadata": {},
   "source": [
    "# Peer-graded Assignment: Capstone Project - The Battle of Neighbourhoods (Week 1)\n",
    "\n",
    "Requirements\n",
    "*  A description of the problem and a discussion of the background. \n",
    "*  A description of the data and how it will be used to solve the problem. "
   ]
  },
  {
   "cell_type": "markdown",
   "metadata": {},
   "source": [
    "### Introduction (Where you discuss the business problem and who would be interested in this project.)"
   ]
  },
  {
   "cell_type": "markdown",
   "metadata": {},
   "source": [
    "#### Business Problem"
   ]
  },
  {
   "cell_type": "markdown",
   "metadata": {},
   "source": [
    "A graduate with a Bachelors degree in Restaurnt Management with work experience in the restuaarnt industry (the Client) is looking to open a restaurant in Toronto, Ontario, Canada.   Where would you recommend that they open it? "
   ]
  },
  {
   "cell_type": "markdown",
   "metadata": {},
   "source": [
    "#### Background"
   ]
  },
  {
   "cell_type": "markdown",
   "metadata": {},
   "source": [
    "The clent's goal for the resturant is to open an operate a successful Pizza restaurant in Toronto, Ontario, Canada.  To accomplish this goal the following Objectives are to be met; \n",
    "\n",
    "Gain financing, Lease existing \"Pizza\" restaurant in neighbourhood of Toronto, Ontario, Canada. Gain necessary licenses, Furnish Kitchen and Order areas.  Establish operations and supply chain, Hire employees, Order supplies, Open restaurant,  Run/Operate restaurant\n",
    "\n",
    "The resturant/company structure will be a sole propretorship where the owner makes all decisions regarding finance, location and operation of the restaurant.\n",
    "\n",
    "This project will provide the client with the analysis using Foursquare location data and regional clustering of venue information to determine what is the recomended neighbourhood in Toronto to open the client's restaurant. \n",
    "\n"
   ]
  },
  {
   "cell_type": "markdown",
   "metadata": {},
   "source": [
    "### Data (Where you describe the data that will be used to solve the problem and the source of the data.)"
   ]
  },
  {
   "attachments": {},
   "cell_type": "markdown",
   "metadata": {},
   "source": [
    "The data necessary to determine what neighbourhood in Toronoto the resturant can be located is described and the sourced below;"
   ]
  },
  {
   "cell_type": "markdown",
   "metadata": {},
   "source": [
    "* Neighbourhood Profiles dataset from the City of Toronto’s Open Data Portal \n",
    "The Neighbourhood Profiles provides a portrait of the demographic, social and economic characteristics of the people and households in each City of Toronto neighbourhood. The data is based on tabulations of 2016 Census of Population data from Statistics Canada."
   ]
  },
  {
   "cell_type": "markdown",
   "metadata": {},
   "source": [
    "Example 1:  code snippets for accessing a dataset via the API can be found at:\n",
    "https://open.toronto.ca/dataset/neighbourhood-profiles/ and select thee For Developers TAB\n",
    "\n"
   ]
  },
  {
   "cell_type": "markdown",
   "metadata": {},
   "source": [
    "* Scrape the Wikipedia Internet page of Canadian Postal Codes begining with \"M\".\n",
    "This a list of postal codes in Canada where the first letter is M. Postal codes beginning with M are located within the city of Toronto in the province of Ontario. Only the first three characters are listed."
   ]
  },
  {
   "cell_type": "markdown",
   "metadata": {},
   "source": [
    "Example 2: url to be scraped: \n",
    "https://en.wikipedia.org/w/index.php?title=List_of_postal_codes_of_Canada:_M&oldid=1011037969\n"
   ]
  },
  {
   "cell_type": "markdown",
   "metadata": {},
   "source": [
    "* A dataset/dataframe of Latitude and Longitude data for the Canadian 3 digit Postal Code begining with \"M\".\n"
   ]
  },
  {
   "cell_type": "markdown",
   "metadata": {},
   "source": [
    "Example 3: url containing latitude and longitude data https://cocl.us/Geospatial_data \n"
   ]
  },
  {
   "cell_type": "markdown",
   "metadata": {},
   "source": [
    "* The Places API from the Foursquare company which contains data such as name and address to define a location,  ratings, tips, and reviews Effective site planning, territory mapping, and investment strategies should rely on foot traffic data. This data is helpful to make market assessments using visit volume and popularity scores.\n"
   ]
  },
  {
   "cell_type": "markdown",
   "metadata": {},
   "source": [
    "Example 4: url Places API from the Foursquare company https://developer.foursquare.com/docs/places-api/"
   ]
  },
  {
   "cell_type": "code",
   "execution_count": null,
   "metadata": {},
   "outputs": [],
   "source": []
  }
 ],
 "metadata": {
  "kernelspec": {
   "display_name": "Python 3",
   "language": "python",
   "name": "python3"
  },
  "language_info": {
   "codemirror_mode": {
    "name": "ipython",
    "version": 3
   },
   "file_extension": ".py",
   "mimetype": "text/x-python",
   "name": "python",
   "nbconvert_exporter": "python",
   "pygments_lexer": "ipython3",
   "version": "3.8.5"
  }
 },
 "nbformat": 4,
 "nbformat_minor": 4
}
